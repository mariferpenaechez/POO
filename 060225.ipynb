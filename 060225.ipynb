{
  "nbformat": 4,
  "nbformat_minor": 0,
  "metadata": {
    "colab": {
      "provenance": []
    },
    "kernelspec": {
      "name": "python3",
      "display_name": "Python 3"
    },
    "language_info": {
      "name": "python"
    }
  },
  "cells": [
    {
      "cell_type": "code",
      "execution_count": null,
      "metadata": {
        "id": "JqAsEJrFu-T0"
      },
      "outputs": [],
      "source": []
    },
    {
      "cell_type": "markdown",
      "source": [
        "#Arreglos y Clases\n",
        "\n",
        "##Matrices\n",
        "Una matriz es un arreglo de tamaño m por n.\n",
        "\n",
        "\n",
        "\\begin{bmatrix}\n",
        "a_{11} & a_{12} & \\dots  & a_{1n} \\\\\n",
        "a_{21} & a_{22} & \\dots  & a_{2n} \\\\\n",
        "\\vdots & \\vdots & \\ddots & \\vdots \\\\\n",
        "a_{m1} & a_{m2} & \\dots  & a_{mn}\n",
        "\\end{bmatrix}\n",
        "\n"
      ],
      "metadata": {
        "id": "2pqZjXUQvJ6l"
      }
    },
    {
      "cell_type": "code",
      "source": [
        "A = [[1,2,3],[4,5,6],[7,8,9]]\n",
        "print(A)"
      ],
      "metadata": {
        "colab": {
          "base_uri": "https://localhost:8080/"
        },
        "id": "y8bJ3_kHyrCI",
        "outputId": "d4ec6372-2230-4e23-963a-7eb994788444"
      },
      "execution_count": null,
      "outputs": [
        {
          "output_type": "stream",
          "name": "stdout",
          "text": [
            "[[1, 2, 3], [4, 5, 6], [7, 8, 9]]\n"
          ]
        }
      ]
    },
    {
      "cell_type": "code",
      "source": [
        "#Otra Matriz\n",
        "B =[[21,34,40],[71,17,77],[73,81,28]]\n",
        "print(A+B)"
      ],
      "metadata": {
        "colab": {
          "base_uri": "https://localhost:8080/"
        },
        "id": "YkxqimZxy017",
        "outputId": "bf08d967-ee40-4a2d-f5b3-3c65fc9b98ab"
      },
      "execution_count": null,
      "outputs": [
        {
          "output_type": "stream",
          "name": "stdout",
          "text": [
            "[[1, 2, 3], [4, 5, 6], [7, 8, 9], [21, 34, 40], [71, 17, 77], [73, 81, 28]]\n"
          ]
        }
      ]
    },
    {
      "cell_type": "code",
      "source": [
        "2*A"
      ],
      "metadata": {
        "colab": {
          "base_uri": "https://localhost:8080/"
        },
        "id": "hvn9aMXzzU42",
        "outputId": "e9ee6e4d-389c-4884-ed40-15ce8a8276be"
      },
      "execution_count": null,
      "outputs": [
        {
          "output_type": "execute_result",
          "data": {
            "text/plain": [
              "[[1, 2, 3], [4, 5, 6], [7, 8, 9], [1, 2, 3], [4, 5, 6], [7, 8, 9]]"
            ]
          },
          "metadata": {},
          "execution_count": 5
        }
      ]
    },
    {
      "cell_type": "code",
      "source": [
        "A[0][0]"
      ],
      "metadata": {
        "colab": {
          "base_uri": "https://localhost:8080/"
        },
        "id": "603MQwthz_vI",
        "outputId": "3a618581-9ddf-4f9d-87ee-46e2cabd1c4a"
      },
      "execution_count": null,
      "outputs": [
        {
          "output_type": "execute_result",
          "data": {
            "text/plain": [
              "1"
            ]
          },
          "metadata": {},
          "execution_count": 6
        }
      ]
    },
    {
      "cell_type": "markdown",
      "source": [
        "##Vectores y listas"
      ],
      "metadata": {
        "id": "eU0c5aO_1K9I"
      }
    },
    {
      "cell_type": "code",
      "source": [
        "L=A[0]"
      ],
      "metadata": {
        "id": "PUpXosk51TxI"
      },
      "execution_count": null,
      "outputs": []
    },
    {
      "cell_type": "code",
      "source": [
        "M=B[0]"
      ],
      "metadata": {
        "id": "uZGwfIPV1nT2"
      },
      "execution_count": null,
      "outputs": []
    },
    {
      "cell_type": "code",
      "source": [
        "print(M)"
      ],
      "metadata": {
        "colab": {
          "base_uri": "https://localhost:8080/"
        },
        "id": "7C2wt9hY1pYy",
        "outputId": "d53976fd-4fa5-4543-be0a-0e0bed2aa947"
      },
      "execution_count": null,
      "outputs": [
        {
          "output_type": "stream",
          "name": "stdout",
          "text": [
            "[21, 34, 40]\n"
          ]
        }
      ]
    },
    {
      "cell_type": "code",
      "source": [
        "a=L[0]\n",
        "b=M[0]\n",
        "a+b"
      ],
      "metadata": {
        "colab": {
          "base_uri": "https://localhost:8080/"
        },
        "id": "ILpnGr6L2WYe",
        "outputId": "25adca6f-6eea-4e7e-9d01-b2a4ed458f53"
      },
      "execution_count": null,
      "outputs": [
        {
          "output_type": "execute_result",
          "data": {
            "text/plain": [
              "22"
            ]
          },
          "metadata": {},
          "execution_count": 12
        }
      ]
    },
    {
      "cell_type": "code",
      "source": [
        "a==1"
      ],
      "metadata": {
        "colab": {
          "base_uri": "https://localhost:8080/"
        },
        "id": "AeafLdr42cht",
        "outputId": "f9451cf3-5af2-4d7a-f239-d68a13286f23"
      },
      "execution_count": null,
      "outputs": [
        {
          "output_type": "execute_result",
          "data": {
            "text/plain": [
              "True"
            ]
          },
          "metadata": {},
          "execution_count": 13
        }
      ]
    },
    {
      "cell_type": "code",
      "source": [
        "len(L)==len(M)"
      ],
      "metadata": {
        "colab": {
          "base_uri": "https://localhost:8080/"
        },
        "id": "eznp51zk4kOS",
        "outputId": "36bba241-1718-4fa2-95b9-af62ecc00d40"
      },
      "execution_count": null,
      "outputs": [
        {
          "output_type": "execute_result",
          "data": {
            "text/plain": [
              "True"
            ]
          },
          "metadata": {},
          "execution_count": 14
        }
      ]
    },
    {
      "cell_type": "code",
      "source": [
        "[L[0]+M[0],L[1]+M[1],L[2]+M[2]]"
      ],
      "metadata": {
        "colab": {
          "base_uri": "https://localhost:8080/"
        },
        "id": "VCR3H8Dg4nrK",
        "outputId": "9446d105-44b8-49c4-ddc3-1559c04b7f41"
      },
      "execution_count": null,
      "outputs": [
        {
          "output_type": "execute_result",
          "data": {
            "text/plain": [
              "[22, 36, 43]"
            ]
          },
          "metadata": {},
          "execution_count": 16
        }
      ]
    },
    {
      "cell_type": "markdown",
      "source": [
        "####Creación de funciones globales\n",
        "La función para crear funciones es `def` que se cierra con un debuyg ( `print` o `return`)"
      ],
      "metadata": {
        "id": "AbmINdxzEXLi"
      }
    },
    {
      "cell_type": "code",
      "source": [
        "def Hola():\n",
        "  print (\"Hola, me llamo Marifer\")"
      ],
      "metadata": {
        "id": "lEzpYG1UFert"
      },
      "execution_count": null,
      "outputs": []
    },
    {
      "cell_type": "code",
      "source": [
        "Hola()"
      ],
      "metadata": {
        "colab": {
          "base_uri": "https://localhost:8080/"
        },
        "id": "FEhPjbc0Fncl",
        "outputId": "27ba0c43-adbf-4f4c-8b1f-5f8204e15a99"
      },
      "execution_count": null,
      "outputs": [
        {
          "output_type": "stream",
          "name": "stdout",
          "text": [
            "Hola, me llamo Marifer\n"
          ]
        }
      ]
    },
    {
      "cell_type": "code",
      "source": [
        "def Saludar(s,n):\n",
        "  print(f\"Hola, me llamo {s} y tengo {n} años\")"
      ],
      "metadata": {
        "id": "nixMLmTGGP65"
      },
      "execution_count": null,
      "outputs": []
    },
    {
      "cell_type": "code",
      "source": [
        "Saludar(\"Marifer\", 19)"
      ],
      "metadata": {
        "colab": {
          "base_uri": "https://localhost:8080/"
        },
        "id": "6srDCQ_EGbYv",
        "outputId": "1dd972dc-ade9-4c11-8812-83127632dd5f"
      },
      "execution_count": null,
      "outputs": [
        {
          "output_type": "stream",
          "name": "stdout",
          "text": [
            "Hola, me llamo Marifer y tengo 19 años\n"
          ]
        }
      ]
    },
    {
      "cell_type": "code",
      "source": [
        "def par(i):\n",
        "  for i in range(i):\n",
        "    if i%2 ==0 :\n",
        "      print(f\"{i} es par\")\n",
        "    else:\n",
        "      print(f\"{i} es impar\")\n"
      ],
      "metadata": {
        "id": "x8irJdhiHlr0"
      },
      "execution_count": null,
      "outputs": []
    },
    {
      "cell_type": "code",
      "source": [
        "par(20)"
      ],
      "metadata": {
        "colab": {
          "base_uri": "https://localhost:8080/"
        },
        "id": "nrBO1qAvJGQ3",
        "outputId": "90191f53-924f-4999-cee2-995b7ac6a1f0"
      },
      "execution_count": null,
      "outputs": [
        {
          "output_type": "stream",
          "name": "stdout",
          "text": [
            "0 es par\n",
            "1 es impar\n",
            "2 es par\n",
            "3 es impar\n",
            "4 es par\n",
            "5 es impar\n",
            "6 es par\n",
            "7 es impar\n",
            "8 es par\n",
            "9 es impar\n",
            "10 es par\n",
            "11 es impar\n",
            "12 es par\n",
            "13 es impar\n",
            "14 es par\n",
            "15 es impar\n",
            "16 es par\n",
            "17 es impar\n",
            "18 es par\n",
            "19 es impar\n"
          ]
        }
      ]
    },
    {
      "cell_type": "code",
      "source": [
        "def suma_vectorial(L, M):\n",
        "  x = [L[i]+M[i] for i in range(len(L))]\n",
        "  return x"
      ],
      "metadata": {
        "id": "jb7-A7exLP7r"
      },
      "execution_count": null,
      "outputs": []
    },
    {
      "cell_type": "code",
      "source": [
        "L = [1,2,3]\n",
        "M = [21,34,40]\n",
        "suma_vectorial(L,M)"
      ],
      "metadata": {
        "colab": {
          "base_uri": "https://localhost:8080/"
        },
        "id": "6X0fGhhPMPBO",
        "outputId": "dd978dea-1ce7-41bb-a311-3bedeb7e4051"
      },
      "execution_count": null,
      "outputs": [
        {
          "output_type": "execute_result",
          "data": {
            "text/plain": [
              "[22, 36, 43]"
            ]
          },
          "metadata": {},
          "execution_count": 50
        }
      ]
    },
    {
      "cell_type": "markdown",
      "source": [
        "##Módulos o librerías\n",
        "Conjunto de módulos que contienen código reutilizable para realizar tareas específicas sin necesidad de programarlas desde cero. Estas librerías pueden incluir funciones, clases y métodos que facilitan la programación en distintos ámbitos como matemáticas, análisis de datos, inteligencia artificial, desarrollo web, etc.\n",
        "\n"
      ],
      "metadata": {
        "id": "uaI-JJafM4yJ"
      }
    },
    {
      "cell_type": "code",
      "source": [
        "import math\n",
        "from math import sqrt, pi"
      ],
      "metadata": {
        "id": "iHGnxNI2ONl8"
      },
      "execution_count": null,
      "outputs": []
    },
    {
      "cell_type": "code",
      "source": [
        "sqrt(68)"
      ],
      "metadata": {
        "colab": {
          "base_uri": "https://localhost:8080/"
        },
        "id": "UTIjJZJcOQza",
        "outputId": "ea1b7f51-6990-453c-8d99-ccb01640afa2"
      },
      "execution_count": null,
      "outputs": [
        {
          "output_type": "execute_result",
          "data": {
            "text/plain": [
              "8.246211251235321"
            ]
          },
          "metadata": {},
          "execution_count": 52
        }
      ]
    },
    {
      "cell_type": "code",
      "source": [
        "pi"
      ],
      "metadata": {
        "colab": {
          "base_uri": "https://localhost:8080/"
        },
        "id": "CQT7nlrvOTXz",
        "outputId": "8f516dea-5455-4af9-befa-6927d6232fba"
      },
      "execution_count": null,
      "outputs": [
        {
          "output_type": "execute_result",
          "data": {
            "text/plain": [
              "3.141592653589793"
            ]
          },
          "metadata": {},
          "execution_count": 53
        }
      ]
    },
    {
      "cell_type": "markdown",
      "source": [
        "#El módulo NumPy\n",
        "\n",
        "La función `array`"
      ],
      "metadata": {
        "id": "1Aqcg1NxPEdl"
      }
    },
    {
      "cell_type": "code",
      "source": [
        "import numpy as np\n",
        "\n",
        "L_vector = np.array(L)\n",
        "M_vector = np.array(M)\n",
        "\n",
        "L_vector + M_vector"
      ],
      "metadata": {
        "colab": {
          "base_uri": "https://localhost:8080/"
        },
        "id": "OZ9-LMtLPOAI",
        "outputId": "aead14c7-f8a3-421b-fb17-89ab43e90e1d"
      },
      "execution_count": null,
      "outputs": [
        {
          "output_type": "execute_result",
          "data": {
            "text/plain": [
              "array([22, 36, 43])"
            ]
          },
          "metadata": {},
          "execution_count": 55
        }
      ]
    },
    {
      "cell_type": "code",
      "source": [
        "C=[9,2,2,2,3,3,2,17,2]\n",
        "A = [8,1,1,1,2,2,1,16,1]\n",
        "\n",
        "C_matriz = np.array(C).reshape(3,3)\n",
        "A_matriz = np.array(A).reshape(3,3)\n",
        "\n",
        "print(C_matriz)\n",
        "print(A_matriz)"
      ],
      "metadata": {
        "colab": {
          "base_uri": "https://localhost:8080/"
        },
        "id": "pWHVp9atQilI",
        "outputId": "2c127398-1b77-44a9-e8c0-08b762a6e997"
      },
      "execution_count": null,
      "outputs": [
        {
          "output_type": "stream",
          "name": "stdout",
          "text": [
            "[[ 9  2  2]\n",
            " [ 2  3  3]\n",
            " [ 2 17  2]]\n",
            "[[ 8  1  1]\n",
            " [ 1  2  2]\n",
            " [ 1 16  1]]\n"
          ]
        }
      ]
    },
    {
      "cell_type": "code",
      "source": [
        "C_matriz @ A_matriz"
      ],
      "metadata": {
        "colab": {
          "base_uri": "https://localhost:8080/"
        },
        "id": "I8wc2ufORUOJ",
        "outputId": "8f2c0b0d-6f74-4547-c7c6-433d74730885"
      },
      "execution_count": null,
      "outputs": [
        {
          "output_type": "execute_result",
          "data": {
            "text/plain": [
              "array([[76, 45, 15],\n",
              "       [22, 56, 11],\n",
              "       [35, 68, 38]])"
            ]
          },
          "metadata": {},
          "execution_count": 57
        }
      ]
    },
    {
      "cell_type": "code",
      "source": [
        "A_matriz @ C_matriz"
      ],
      "metadata": {
        "colab": {
          "base_uri": "https://localhost:8080/"
        },
        "id": "n69G_zL4Rbat",
        "outputId": "060fe2d6-8c91-4ce7-c1ff-cb632c087698"
      },
      "execution_count": null,
      "outputs": [
        {
          "output_type": "execute_result",
          "data": {
            "text/plain": [
              "array([[76, 36, 21],\n",
              "       [17, 42, 12],\n",
              "       [43, 67, 52]])"
            ]
          },
          "metadata": {},
          "execution_count": 58
        }
      ]
    }
  ]
}