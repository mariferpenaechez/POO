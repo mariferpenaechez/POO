{
  "nbformat": 4,
  "nbformat_minor": 0,
  "metadata": {
    "colab": {
      "provenance": []
    },
    "kernelspec": {
      "name": "python3",
      "display_name": "Python 3"
    },
    "language_info": {
      "name": "python"
    }
  },
  "cells": [
    {
      "cell_type": "code",
      "execution_count": null,
      "metadata": {
        "id": "mbAy6deIMrDr"
      },
      "outputs": [],
      "source": []
    },
    {
      "cell_type": "markdown",
      "source": [
        "#Algunas funciones en Python\n",
        "\n",
        "\n",
        "\n",
        "1.   Input para que se vuelva entero= int.()\n",
        "2.   Lambda\n",
        "3.   Map\n",
        "\n"
      ],
      "metadata": {
        "id": "c0WgQPBkMuIj"
      }
    },
    {
      "cell_type": "markdown",
      "source": [
        "#Ejemplos de la función *input* (interactuar con el usuario)"
      ],
      "metadata": {
        "id": "lsJ1AcZnM8pj"
      }
    },
    {
      "cell_type": "code",
      "source": [
        "Ceci = input(\"¿De quién es cumpleaños?\")"
      ],
      "metadata": {
        "colab": {
          "base_uri": "https://localhost:8080/"
        },
        "id": "j_70e6qkNKb1",
        "outputId": "52cfce22-14db-47ac-a3c8-dff96d5ed6ac"
      },
      "execution_count": null,
      "outputs": [
        {
          "name": "stdout",
          "output_type": "stream",
          "text": [
            "¿De quién es cumpleaños? de Ceci \n"
          ]
        }
      ]
    },
    {
      "cell_type": "code",
      "source": [
        "edad = int(input(\"¿Cuántos años cumples?\"))"
      ],
      "metadata": {
        "colab": {
          "base_uri": "https://localhost:8080/"
        },
        "id": "4GK8whCXNVV1",
        "outputId": "f84d2799-4550-464a-ee02-6e71df249e3f"
      },
      "execution_count": null,
      "outputs": [
        {
          "name": "stdout",
          "output_type": "stream",
          "text": [
            "¿Cuántos años cumples?19\n"
          ]
        }
      ]
    },
    {
      "cell_type": "code",
      "source": [
        "print(f\"Hoy es cumple de {Ceci} y cumple {edad}\")"
      ],
      "metadata": {
        "colab": {
          "base_uri": "https://localhost:8080/"
        },
        "id": "u0rKM2GwNjWK",
        "outputId": "ff0c927f-f0a4-4b79-8b2a-a48aac2f64ee"
      },
      "execution_count": null,
      "outputs": [
        {
          "output_type": "stream",
          "name": "stdout",
          "text": [
            "Hoy es cumple de  de Ceci  y cumple 19\n"
          ]
        }
      ]
    },
    {
      "cell_type": "markdown",
      "source": [
        "#Función Lambda\n",
        "\n",
        "Es una función anónima (no tiene nombre) y sirve para crear funciones ad hoc (funciones dentro de 1 solo código). Define funciones para un solo momento."
      ],
      "metadata": {
        "id": "0VPU6-GhN5fL"
      }
    },
    {
      "cell_type": "code",
      "source": [
        "def cuadrado(x):\n",
        "  z = x**2\n",
        "  return z"
      ],
      "metadata": {
        "id": "Zg2PrxrBOHpz"
      },
      "execution_count": null,
      "outputs": []
    },
    {
      "cell_type": "code",
      "source": [
        "cuadrado(25)"
      ],
      "metadata": {
        "colab": {
          "base_uri": "https://localhost:8080/"
        },
        "id": "5lrCAwlqONyf",
        "outputId": "09984884-1885-43f8-d2c6-3a8f57aeb8d8"
      },
      "execution_count": null,
      "outputs": [
        {
          "output_type": "execute_result",
          "data": {
            "text/plain": [
              "625"
            ]
          },
          "metadata": {},
          "execution_count": 6
        }
      ]
    },
    {
      "cell_type": "code",
      "source": [
        "cuad = lambda x: x**2\n",
        "cuad(2)"
      ],
      "metadata": {
        "colab": {
          "base_uri": "https://localhost:8080/"
        },
        "id": "bhiIJB0aOgWc",
        "outputId": "6e2cfbd0-f620-4279-9d26-0808112571d1"
      },
      "execution_count": null,
      "outputs": [
        {
          "output_type": "execute_result",
          "data": {
            "text/plain": [
              "4"
            ]
          },
          "metadata": {},
          "execution_count": 7
        }
      ]
    },
    {
      "cell_type": "code",
      "source": [
        "operación = lambda x, y: x**2 + x*y +2\n",
        "operación(2,3)"
      ],
      "metadata": {
        "colab": {
          "base_uri": "https://localhost:8080/"
        },
        "id": "j-wYDIlDOlZo",
        "outputId": "ad24ac72-81d8-492e-8a9a-7fcbdd1e9239"
      },
      "execution_count": null,
      "outputs": [
        {
          "output_type": "execute_result",
          "data": {
            "text/plain": [
              "12"
            ]
          },
          "metadata": {},
          "execution_count": 8
        }
      ]
    },
    {
      "cell_type": "code",
      "source": [
        "import math\n",
        "from math import pi,e"
      ],
      "metadata": {
        "id": "VxW2UW9OOtYB"
      },
      "execution_count": null,
      "outputs": []
    },
    {
      "cell_type": "code",
      "source": [
        "pi, e"
      ],
      "metadata": {
        "colab": {
          "base_uri": "https://localhost:8080/"
        },
        "id": "xsl6w6u7OzQ5",
        "outputId": "83ddf257-c3f4-4c8c-b1ab-afafa9cdc251"
      },
      "execution_count": null,
      "outputs": [
        {
          "output_type": "execute_result",
          "data": {
            "text/plain": [
              "(3.141592653589793, 2.718281828459045)"
            ]
          },
          "metadata": {},
          "execution_count": 10
        }
      ]
    },
    {
      "cell_type": "code",
      "source": [
        "area_circulo = lambda radio: pi*radio**2\n",
        "area_circulo(5)"
      ],
      "metadata": {
        "colab": {
          "base_uri": "https://localhost:8080/"
        },
        "id": "U-V1L9fkO0_C",
        "outputId": "93a7e9cc-1804-4d09-a411-cebc8fdc8d49"
      },
      "execution_count": null,
      "outputs": [
        {
          "output_type": "execute_result",
          "data": {
            "text/plain": [
              "78.53981633974483"
            ]
          },
          "metadata": {},
          "execution_count": 11
        }
      ]
    },
    {
      "cell_type": "markdown",
      "source": [
        "#La función map\n",
        "\n",
        "Hacer un mapeo"
      ],
      "metadata": {
        "id": "uPEFya8ZPBiD"
      }
    },
    {
      "cell_type": "code",
      "source": [
        "residuo = list(map(lambda x: x%2, [i for i in range(1,101)])) #el map aplica a los iterables del argumento\n",
        "residuo"
      ],
      "metadata": {
        "colab": {
          "base_uri": "https://localhost:8080/"
        },
        "id": "TmYr55X7PLOu",
        "outputId": "aef619b0-7e39-4975-b5ee-1ee9c63612d2"
      },
      "execution_count": null,
      "outputs": [
        {
          "output_type": "execute_result",
          "data": {
            "text/plain": [
              "[1,\n",
              " 0,\n",
              " 1,\n",
              " 0,\n",
              " 1,\n",
              " 0,\n",
              " 1,\n",
              " 0,\n",
              " 1,\n",
              " 0,\n",
              " 1,\n",
              " 0,\n",
              " 1,\n",
              " 0,\n",
              " 1,\n",
              " 0,\n",
              " 1,\n",
              " 0,\n",
              " 1,\n",
              " 0,\n",
              " 1,\n",
              " 0,\n",
              " 1,\n",
              " 0,\n",
              " 1,\n",
              " 0,\n",
              " 1,\n",
              " 0,\n",
              " 1,\n",
              " 0,\n",
              " 1,\n",
              " 0,\n",
              " 1,\n",
              " 0,\n",
              " 1,\n",
              " 0,\n",
              " 1,\n",
              " 0,\n",
              " 1,\n",
              " 0,\n",
              " 1,\n",
              " 0,\n",
              " 1,\n",
              " 0,\n",
              " 1,\n",
              " 0,\n",
              " 1,\n",
              " 0,\n",
              " 1,\n",
              " 0,\n",
              " 1,\n",
              " 0,\n",
              " 1,\n",
              " 0,\n",
              " 1,\n",
              " 0,\n",
              " 1,\n",
              " 0,\n",
              " 1,\n",
              " 0,\n",
              " 1,\n",
              " 0,\n",
              " 1,\n",
              " 0,\n",
              " 1,\n",
              " 0,\n",
              " 1,\n",
              " 0,\n",
              " 1,\n",
              " 0,\n",
              " 1,\n",
              " 0,\n",
              " 1,\n",
              " 0,\n",
              " 1,\n",
              " 0,\n",
              " 1,\n",
              " 0,\n",
              " 1,\n",
              " 0,\n",
              " 1,\n",
              " 0,\n",
              " 1,\n",
              " 0,\n",
              " 1,\n",
              " 0,\n",
              " 1,\n",
              " 0,\n",
              " 1,\n",
              " 0,\n",
              " 1,\n",
              " 0,\n",
              " 1,\n",
              " 0,\n",
              " 1,\n",
              " 0,\n",
              " 1,\n",
              " 0,\n",
              " 1,\n",
              " 0]"
            ]
          },
          "metadata": {},
          "execution_count": 12
        }
      ]
    },
    {
      "cell_type": "code",
      "source": [
        "def residuo_(x):\n",
        "  for x in range(1,101):\n",
        "    return x%2"
      ],
      "metadata": {
        "id": "OT0h0v9YPbec"
      },
      "execution_count": null,
      "outputs": []
    },
    {
      "cell_type": "code",
      "source": [
        "residuo_(3)"
      ],
      "metadata": {
        "colab": {
          "base_uri": "https://localhost:8080/"
        },
        "id": "TsbwwMlhPjNm",
        "outputId": "e3c19bbc-9689-48e9-c7d9-8dd329eab6de"
      },
      "execution_count": null,
      "outputs": [
        {
          "output_type": "execute_result",
          "data": {
            "text/plain": [
              "1"
            ]
          },
          "metadata": {},
          "execution_count": 14
        }
      ]
    },
    {
      "cell_type": "code",
      "source": [
        "exponenciales = list(map(lambda x: e**x, [i for i in range (1,10)]))"
      ],
      "metadata": {
        "id": "LXtdTbbNPl1t"
      },
      "execution_count": null,
      "outputs": []
    }
  ]
}