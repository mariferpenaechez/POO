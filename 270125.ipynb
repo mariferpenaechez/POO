{
  "nbformat": 4,
  "nbformat_minor": 0,
  "metadata": {
    "colab": {
      "provenance": []
    },
    "kernelspec": {
      "name": "python3",
      "display_name": "Python 3"
    },
    "language_info": {
      "name": "python"
    }
  },
  "cells": [
    {
      "cell_type": "code",
      "execution_count": null,
      "metadata": {
        "id": "NF2yRE33beaO"
      },
      "outputs": [],
      "source": []
    },
    {
      "cell_type": "markdown",
      "source": [
        "# Conjuntos y Listas\n",
        "\n",
        "\n",
        "*   Conjunto finito:\n",
        "    $$\\{o_1, o_2, \\dots, o_n \\}$$\n",
        "    $$\\{o_1, o_2, \\dots, o_n \\}$$\n",
        "\n",
        "- Listas finitas:\n",
        "  $$[l_1, l_2, \\dots, l_n]$$\n",
        "\n",
        "- Generador de índices\n",
        "  range ( )"
      ],
      "metadata": {
        "id": "bBIORFuWcrN_"
      }
    },
    {
      "cell_type": "markdown",
      "source": [
        "En Python, existe la función `range(a,b)`donde $a,b \\geq 0$"
      ],
      "metadata": {
        "id": "ayW_XETLevjd"
      }
    },
    {
      "cell_type": "code",
      "source": [
        "for i in range(10):\n",
        "  print(i)"
      ],
      "metadata": {
        "colab": {
          "base_uri": "https://localhost:8080/"
        },
        "id": "mmxAiy0_gDZb",
        "outputId": "a3c138bf-84da-4f32-df52-a402a4f294d7"
      },
      "execution_count": 2,
      "outputs": [
        {
          "output_type": "stream",
          "name": "stdout",
          "text": [
            "0\n",
            "1\n",
            "2\n",
            "3\n",
            "4\n",
            "5\n",
            "6\n",
            "7\n",
            "8\n",
            "9\n"
          ]
        }
      ]
    },
    {
      "cell_type": "code",
      "source": [
        "# Vamos a construir dos conjuntos\n",
        "\n",
        "Pares = {i for i in range(21) if i % 2 == 0}\n",
        "print(f\"Pares: {Pares}\")\n",
        "\n",
        "Impares = {i for i in range(21) if i % 2 != 0}\n",
        "print(f\"Impares: {Impares}\")"
      ],
      "metadata": {
        "colab": {
          "base_uri": "https://localhost:8080/"
        },
        "id": "tle8B38PhD3w",
        "outputId": "d52257cc-952a-4464-b475-a13ee226ee1f"
      },
      "execution_count": 6,
      "outputs": [
        {
          "output_type": "stream",
          "name": "stdout",
          "text": [
            "Pares: {0, 2, 4, 6, 8, 10, 12, 14, 16, 18, 20}\n",
            "Impares: {1, 3, 5, 7, 9, 11, 13, 15, 17, 19}\n"
          ]
        }
      ]
    },
    {
      "cell_type": "code",
      "source": [
        "range(10)"
      ],
      "metadata": {
        "colab": {
          "base_uri": "https://localhost:8080/"
        },
        "id": "zCyUa-_YehEn",
        "outputId": "8c2ab709-9b44-4a2a-e781-1251babaa2bb"
      },
      "execution_count": 1,
      "outputs": [
        {
          "output_type": "execute_result",
          "data": {
            "text/plain": [
              "range(0, 10)"
            ]
          },
          "metadata": {},
          "execution_count": 1
        }
      ]
    },
    {
      "cell_type": "code",
      "source": [
        "C = {17, 7, 27, 77, 87, 47, 97}\n",
        "C, type(C)"
      ],
      "metadata": {
        "colab": {
          "base_uri": "https://localhost:8080/"
        },
        "id": "xnXqM7WJj9ev",
        "outputId": "720af2b4-ef79-49d0-89f7-94ff65f5bb3b"
      },
      "execution_count": 7,
      "outputs": [
        {
          "output_type": "execute_result",
          "data": {
            "text/plain": [
              "({7, 17, 27, 47, 77, 87, 97}, set)"
            ]
          },
          "metadata": {},
          "execution_count": 7
        }
      ]
    },
    {
      "cell_type": "markdown",
      "source": [
        "**Los objetos en python tienen atributos**"
      ],
      "metadata": {
        "id": "W4aXzsY3kGWc"
      }
    },
    {
      "cell_type": "code",
      "source": [
        "Pares.intersection(Impares) #el conjunto vacío"
      ],
      "metadata": {
        "colab": {
          "base_uri": "https://localhost:8080/"
        },
        "id": "EUHBjt_9kLmx",
        "outputId": "5f2454e0-c3c5-4d51-b27f-a1d0858df134"
      },
      "execution_count": 8,
      "outputs": [
        {
          "output_type": "execute_result",
          "data": {
            "text/plain": [
              "set()"
            ]
          },
          "metadata": {},
          "execution_count": 8
        }
      ]
    },
    {
      "cell_type": "code",
      "source": [
        "Pares.union(Impares)"
      ],
      "metadata": {
        "colab": {
          "base_uri": "https://localhost:8080/"
        },
        "id": "dOiI9gBokZuG",
        "outputId": "767528cc-85bd-411d-84f8-653189e1dd64"
      },
      "execution_count": 10,
      "outputs": [
        {
          "output_type": "execute_result",
          "data": {
            "text/plain": [
              "{0, 1, 2, 3, 4, 5, 6, 7, 8, 9, 10, 11, 12, 13, 14, 15, 16, 17, 18, 19, 20}"
            ]
          },
          "metadata": {},
          "execution_count": 10
        }
      ]
    },
    {
      "cell_type": "code",
      "source": [
        "Impares.difference(C) #quitando elementos de C a los impares"
      ],
      "metadata": {
        "colab": {
          "base_uri": "https://localhost:8080/"
        },
        "id": "2yxoSNkxlHcA",
        "outputId": "0c5e0dc9-fdc0-4dd1-eb50-57619154a072"
      },
      "execution_count": 11,
      "outputs": [
        {
          "output_type": "execute_result",
          "data": {
            "text/plain": [
              "{1, 3, 5, 9, 11, 13, 15, 19}"
            ]
          },
          "metadata": {},
          "execution_count": 11
        }
      ]
    },
    {
      "cell_type": "markdown",
      "source": [
        "#Listas"
      ],
      "metadata": {
        "id": "2IPvx-agmQ8Z"
      }
    },
    {
      "cell_type": "code",
      "source": [
        "listas_pares = list(Pares)"
      ],
      "metadata": {
        "id": "_zddwDBxmXCE"
      },
      "execution_count": 13,
      "outputs": []
    }
  ]
}