{
  "nbformat": 4,
  "nbformat_minor": 0,
  "metadata": {
    "colab": {
      "provenance": []
    },
    "kernelspec": {
      "name": "python3",
      "display_name": "Python 3"
    },
    "language_info": {
      "name": "python"
    }
  },
  "cells": [
    {
      "cell_type": "code",
      "execution_count": 1,
      "metadata": {
        "colab": {
          "base_uri": "https://localhost:8080/"
        },
        "id": "OGUIN4zw73pG",
        "outputId": "fa656e5b-526c-4745-bd74-dd0e5bb431ca"
      },
      "outputs": [
        {
          "output_type": "execute_result",
          "data": {
            "text/plain": [
              "['Hola mundo']"
            ]
          },
          "metadata": {},
          "execution_count": 1
        }
      ],
      "source": [
        "x = \"Hola mundo\"\n",
        "x .split(\"-\")"
      ]
    },
    {
      "cell_type": "markdown",
      "source": [
        "#Práctica Previa al Examen\n",
        "##Ejercicios"
      ],
      "metadata": {
        "id": "jx1JzIM59FAO"
      }
    },
    {
      "cell_type": "code",
      "source": [
        "#Ejercicio 1\n",
        "print(\"hello world\")"
      ],
      "metadata": {
        "colab": {
          "base_uri": "https://localhost:8080/"
        },
        "id": "dKw5njOd9La2",
        "outputId": "94c08e7a-ed86-40cf-8ccf-4d2e209379ac"
      },
      "execution_count": 2,
      "outputs": [
        {
          "output_type": "stream",
          "name": "stdout",
          "text": [
            "hello world\n"
          ]
        }
      ]
    },
    {
      "cell_type": "code",
      "source": [
        "#Ejercicio 2\n",
        "nombre = \"Marifer\"\n",
        "print(nombre)"
      ],
      "metadata": {
        "colab": {
          "base_uri": "https://localhost:8080/"
        },
        "id": "sa7LriUP9O1B",
        "outputId": "e3bef311-932f-4490-a347-7071d7b8e6db"
      },
      "execution_count": 3,
      "outputs": [
        {
          "output_type": "stream",
          "name": "stdout",
          "text": [
            "Marifer\n"
          ]
        }
      ]
    },
    {
      "cell_type": "code",
      "source": [
        "#Ejercicio 3\n",
        "print(\"Ingrese un número\")\n",
        "num = float(input())\n",
        "print(\"El doble del número ingresado es: \", num*num)"
      ],
      "metadata": {
        "colab": {
          "base_uri": "https://localhost:8080/"
        },
        "id": "SJFbZgLB9YuY",
        "outputId": "e69b3169-55c7-494c-cc69-0a59888ee5cb"
      },
      "execution_count": 4,
      "outputs": [
        {
          "output_type": "stream",
          "name": "stdout",
          "text": [
            "Ingrese un número\n",
            "5\n",
            "El doble del número ingresado es:  25.0\n"
          ]
        }
      ]
    },
    {
      "cell_type": "code",
      "source": [
        "#Ejercicio 4\n",
        "print(\"Va a sumar dos números\")\n",
        "print(\"Ingrese el primer número\")\n",
        "num1 = float(input())\n",
        "print(\"Ingrese el segundo número\")\n",
        "num2 = float(input())\n",
        "print(\"La suma de los números es: \", num1 + num2)"
      ],
      "metadata": {
        "colab": {
          "base_uri": "https://localhost:8080/"
        },
        "id": "E2nSUnYe9d24",
        "outputId": "85c7bde1-7b03-4a54-d59d-c8010d8be721"
      },
      "execution_count": 5,
      "outputs": [
        {
          "output_type": "stream",
          "name": "stdout",
          "text": [
            "Va a sumar dos números\n",
            "Ingrese el primer número\n",
            "7\n",
            "Ingrese el segundo número\n",
            "7\n",
            "La suma de los números es:  14.0\n"
          ]
        }
      ]
    },
    {
      "cell_type": "code",
      "source": [
        "#Ejercicio 5\n",
        "list = [1, 2, 3, 4, 5]\n",
        "print(\"El primer ejercicio de la lista: \", list[0])\n",
        "print(\"El último ejercicio de la lista: \", list[-1])"
      ],
      "metadata": {
        "colab": {
          "base_uri": "https://localhost:8080/"
        },
        "id": "DTMX_qKB9k57",
        "outputId": "acc828b4-81c3-4dfe-b8b0-ad1de7c17f30"
      },
      "execution_count": 6,
      "outputs": [
        {
          "output_type": "stream",
          "name": "stdout",
          "text": [
            "El primer ejercicio de la lista:  1\n",
            "El último ejercicio de la lista:  5\n"
          ]
        }
      ]
    },
    {
      "cell_type": "code",
      "source": [
        "#Ejercicio 6\n",
        "print(\"Ingrese un número\")\n",
        "num = float(input())\n",
        "if num % 2 == 0:\n",
        "    print(\"El número es par\")\n",
        "else:\n",
        "    print(\"El número es impar\")"
      ],
      "metadata": {
        "colab": {
          "base_uri": "https://localhost:8080/"
        },
        "id": "XG1XtixW9pDl",
        "outputId": "2ab7b3a1-0a1d-4d2c-8317-36de4404e33e"
      },
      "execution_count": 7,
      "outputs": [
        {
          "output_type": "stream",
          "name": "stdout",
          "text": [
            "Ingrese un número\n",
            "6\n",
            "El número es par\n"
          ]
        }
      ]
    },
    {
      "cell_type": "code",
      "source": [
        "#Ejercicio 7\n",
        "for i in range(1, 11):\n",
        "    print(i)"
      ],
      "metadata": {
        "colab": {
          "base_uri": "https://localhost:8080/"
        },
        "id": "odvFet609wWI",
        "outputId": "a52e89ec-745a-4443-f4e8-7c9013469bfe"
      },
      "execution_count": 8,
      "outputs": [
        {
          "output_type": "stream",
          "name": "stdout",
          "text": [
            "1\n",
            "2\n",
            "3\n",
            "4\n",
            "5\n",
            "6\n",
            "7\n",
            "8\n",
            "9\n",
            "10\n"
          ]
        }
      ]
    },
    {
      "cell_type": "code",
      "source": [
        "#Ejercicio 8\n",
        "for i in range(1, 101):\n",
        "    print(i+i)"
      ],
      "metadata": {
        "colab": {
          "base_uri": "https://localhost:8080/"
        },
        "id": "mfXx1dMj-BGD",
        "outputId": "4be22b20-9a3d-4a8f-8bd4-d8e6288d513b"
      },
      "execution_count": 9,
      "outputs": [
        {
          "output_type": "stream",
          "name": "stdout",
          "text": [
            "2\n",
            "4\n",
            "6\n",
            "8\n",
            "10\n",
            "12\n",
            "14\n",
            "16\n",
            "18\n",
            "20\n",
            "22\n",
            "24\n",
            "26\n",
            "28\n",
            "30\n",
            "32\n",
            "34\n",
            "36\n",
            "38\n",
            "40\n",
            "42\n",
            "44\n",
            "46\n",
            "48\n",
            "50\n",
            "52\n",
            "54\n",
            "56\n",
            "58\n",
            "60\n",
            "62\n",
            "64\n",
            "66\n",
            "68\n",
            "70\n",
            "72\n",
            "74\n",
            "76\n",
            "78\n",
            "80\n",
            "82\n",
            "84\n",
            "86\n",
            "88\n",
            "90\n",
            "92\n",
            "94\n",
            "96\n",
            "98\n",
            "100\n",
            "102\n",
            "104\n",
            "106\n",
            "108\n",
            "110\n",
            "112\n",
            "114\n",
            "116\n",
            "118\n",
            "120\n",
            "122\n",
            "124\n",
            "126\n",
            "128\n",
            "130\n",
            "132\n",
            "134\n",
            "136\n",
            "138\n",
            "140\n",
            "142\n",
            "144\n",
            "146\n",
            "148\n",
            "150\n",
            "152\n",
            "154\n",
            "156\n",
            "158\n",
            "160\n",
            "162\n",
            "164\n",
            "166\n",
            "168\n",
            "170\n",
            "172\n",
            "174\n",
            "176\n",
            "178\n",
            "180\n",
            "182\n",
            "184\n",
            "186\n",
            "188\n",
            "190\n",
            "192\n",
            "194\n",
            "196\n",
            "198\n",
            "200\n"
          ]
        }
      ]
    },
    {
      "cell_type": "code",
      "source": [
        "#Ejercicio 9\n",
        "def cuadrado(num):\n",
        "    return num*num\n",
        "print(\"Ingrese un número para sacar su cuadrado: \")\n",
        "num = float(input())\n",
        "print(\"El cuadrado del número ingresado es: \", cuadrado(num))"
      ],
      "metadata": {
        "colab": {
          "base_uri": "https://localhost:8080/"
        },
        "id": "qmcL-G52-HN7",
        "outputId": "d95a5304-0590-4acb-dd39-0f3c96198272"
      },
      "execution_count": 10,
      "outputs": [
        {
          "output_type": "stream",
          "name": "stdout",
          "text": [
            "Ingrese un número para sacar su cuadrado: \n",
            "6\n",
            "El cuadrado del número ingresado es:  36.0\n"
          ]
        }
      ]
    },
    {
      "cell_type": "code",
      "source": [
        "#Ejercicio 10}\n",
        "vocales =\"aeiouAEIOU\"\n",
        "print(\"Introduce un texto: \")\n",
        "texto = input()\n",
        "print(\"Ingrese una palabra\")\n",
        "cont = 0\n",
        "for char in texto:\n",
        "  if char in vocales:\n",
        "    cont +=1\n",
        "print(\"La cantidad de vocales en la palabra es: \", cont)"
      ],
      "metadata": {
        "colab": {
          "base_uri": "https://localhost:8080/"
        },
        "id": "ublqZFbM-aLa",
        "outputId": "6473a715-a358-4baa-81a4-d9907dcd059e"
      },
      "execution_count": 28,
      "outputs": [
        {
          "output_type": "stream",
          "name": "stdout",
          "text": [
            "Introduce un texto: \n",
            "hola\n",
            "Ingrese una palabra\n",
            "La cantidad de vocales en la palabra es:  2\n"
          ]
        }
      ]
    },
    {
      "cell_type": "code",
      "source": [
        "#Ejercicio 11\n",
        "unoadiez = [1,2,3,4,5,6,7,8,9,10]\n",
        "for i in unoadiez:\n",
        "    if i % 2 == 0:\n",
        "        print(i)"
      ],
      "metadata": {
        "colab": {
          "base_uri": "https://localhost:8080/"
        },
        "id": "4RH9TYW7CpqZ",
        "outputId": "445ffec9-ac32-44a7-8986-3eca6bc4f041"
      },
      "execution_count": 16,
      "outputs": [
        {
          "output_type": "stream",
          "name": "stdout",
          "text": [
            "2\n",
            "4\n",
            "6\n",
            "8\n",
            "10\n"
          ]
        }
      ]
    },
    {
      "cell_type": "code",
      "source": [
        "#Ejercicio 12\n",
        "edades = {\"Juan\": 25, \"Ana\": 30, \"Pedro\": 28}\n",
        "\n",
        "nombre = input(\"Ingrese el nombre de la persona: \")\n",
        "\n",
        "if nombre in edades:\n",
        "    print(f\"La edad de {nombre} es {edades[nombre]} años.\")\n",
        "else:\n",
        "    print(f\"No se encontró la edad de {nombre}.\")\n"
      ],
      "metadata": {
        "colab": {
          "base_uri": "https://localhost:8080/"
        },
        "id": "akJDUwEE_zJF",
        "outputId": "af0f733a-77e5-455b-9329-979e55a70654"
      },
      "execution_count": 2,
      "outputs": [
        {
          "output_type": "stream",
          "name": "stdout",
          "text": [
            "Ingrese el nombre de la persona: Pedro\n",
            "La edad de Pedro es 28 años.\n"
          ]
        }
      ]
    },
    {
      "cell_type": "code",
      "source": [
        "#Ejercicio 13\n",
        "#Escribe un programa que encuentre el n´umero m´as grande en una list\n",
        "def largest_number(numbers):\n",
        "    largest_number = numbers[0]\n",
        "    for number in numbers:\n",
        "        if number > largest_number:\n",
        "            largest_number = number\n",
        "    return largest_number\n",
        "\n",
        "numbers = [1, 5, 2, 8, 3]\n",
        "largest = largest_number(numbers)\n",
        "print(\"El número más grande es:\", largest)\n",
        "\n"
      ],
      "metadata": {
        "colab": {
          "base_uri": "https://localhost:8080/"
        },
        "id": "nZ5CStgeDIhY",
        "outputId": "1511a25d-5d81-4dc3-ce0f-4250cabb3c07"
      },
      "execution_count": 4,
      "outputs": [
        {
          "output_type": "stream",
          "name": "stdout",
          "text": [
            "El número más grande es: 8\n"
          ]
        }
      ]
    },
    {
      "cell_type": "code",
      "source": [
        "#Ejercicio 14\n",
        "lista = [11, 13, 51, 2, 34, 55]\n",
        "def promedio(num1, num2, num3, num4, num5, num6):\n",
        "    return (lista[0]+lista[1]+lista[2]+lista[3]+lista[4]+lista[5])/6\n",
        "print(\"El promedio de la lista es: \", promedio(lista[0], lista[1], lista[2], lista[3], lista[4], lista[5\n",
        "                                                                                                       ]))"
      ],
      "metadata": {
        "colab": {
          "base_uri": "https://localhost:8080/"
        },
        "id": "IRY1zeYIDPoz",
        "outputId": "c86811bf-3cf3-4f5c-c4cb-300589491bb8"
      },
      "execution_count": 31,
      "outputs": [
        {
          "output_type": "stream",
          "name": "stdout",
          "text": [
            "El promedio de la lista es:  27.666666666666668\n"
          ]
        }
      ]
    },
    {
      "cell_type": "code",
      "source": [
        "#Ejercicio 15\n",
        "print(\"Ingrese una palabra\")\n",
        "palabra = input()\n",
        "print(\"La palabra al revés es: \", palabra[::-1])\n",
        "palabrarevés = palabra[::-1]\n",
        "if(palabra == palabrarevés):\n",
        "    print(\"Es un palíndromo\")\n",
        "else:\n",
        "    print(\"No es un palíndromo\")"
      ],
      "metadata": {
        "colab": {
          "base_uri": "https://localhost:8080/"
        },
        "id": "zp2calK7DQr1",
        "outputId": "aeb8bea6-3f34-469b-881d-8eb576cda8b6"
      },
      "execution_count": 33,
      "outputs": [
        {
          "output_type": "stream",
          "name": "stdout",
          "text": [
            "Ingrese una palabra\n",
            "hola\n",
            "La palabra al revés es:  aloh\n",
            "No es un palíndromo\n"
          ]
        }
      ]
    },
    {
      "cell_type": "code",
      "source": [
        "#Ejercicio 16\n",
        "def comp(num1, num2):\n",
        "    if num1 > num2:\n",
        "        return num1\n",
        "    else:\n",
        "        return num2\n",
        "\n",
        "print(\"Ingrese el primer número: \")\n",
        "num1 = float(input())\n",
        "print(\"Ingrese el segundo número: \")\n",
        "num2 = float(input())\n",
        "print(\"El número mayor es: \", comp(num1, num2))"
      ],
      "metadata": {
        "colab": {
          "base_uri": "https://localhost:8080/"
        },
        "id": "aieHnjjDDRm7",
        "outputId": "287a495d-0f31-4625-aec8-9d37e57b8a7f"
      },
      "execution_count": 17,
      "outputs": [
        {
          "output_type": "stream",
          "name": "stdout",
          "text": [
            "Ingrese el primer número: \n",
            "5\n",
            "Ingrese el segundo número: \n",
            "9\n",
            "El número mayor es:  9.0\n"
          ]
        }
      ]
    },
    {
      "cell_type": "code",
      "source": [
        "#Ejercicio 17\n",
        "print(\"Ingresa un número para ver su tabla de multiplicar\")\n",
        "num = int(input())\n",
        "for i in range(1, 11):\n",
        "    print(f\"{num}*{i}= {num*i}\")"
      ],
      "metadata": {
        "colab": {
          "base_uri": "https://localhost:8080/"
        },
        "id": "VVTI2NO-DSLC",
        "outputId": "630e9b53-62f6-4307-cedc-9c646880b51b"
      },
      "execution_count": 23,
      "outputs": [
        {
          "output_type": "stream",
          "name": "stdout",
          "text": [
            "Ingresa un número para ver su tabla de multiplicar\n",
            "8\n",
            "8*1= 8\n",
            "8*2= 16\n",
            "8*3= 24\n",
            "8*4= 32\n",
            "8*5= 40\n",
            "8*6= 48\n",
            "8*7= 56\n",
            "8*8= 64\n",
            "8*9= 72\n",
            "8*10= 80\n"
          ]
        }
      ]
    },
    {
      "cell_type": "code",
      "source": [
        "#Ejercicio 18\n",
        "print(\"Ingresa un número para mostrar los números primos menores a él\")\n",
        "num = int(input())\n",
        "for i in range(1, 1000000000):\n",
        "    if i % 2 != 0:\n",
        "        print(i)"
      ],
      "metadata": {
        "colab": {
          "base_uri": "https://localhost:8080/"
        },
        "id": "HaPqNHP6DSzQ",
        "outputId": "8db6bbe2-24c4-48dd-d958-3b5af2e7be07"
      },
      "execution_count": 24,
      "outputs": [
        {
          "output_type": "stream",
          "name": "stdout",
          "text": [
            "Ingresa un número para mostrar los números primos menores a él\n",
            "190\n",
            "1\n",
            "3\n",
            "5\n",
            "7\n",
            "9\n",
            "11\n",
            "13\n",
            "15\n",
            "17\n",
            "19\n",
            "21\n",
            "23\n",
            "25\n",
            "27\n",
            "29\n",
            "31\n",
            "33\n",
            "35\n",
            "37\n",
            "39\n",
            "41\n",
            "43\n",
            "45\n",
            "47\n",
            "49\n",
            "51\n",
            "53\n",
            "55\n",
            "57\n",
            "59\n",
            "61\n",
            "63\n",
            "65\n",
            "67\n",
            "69\n",
            "71\n",
            "73\n",
            "75\n",
            "77\n",
            "79\n",
            "81\n",
            "83\n",
            "85\n",
            "87\n",
            "89\n",
            "91\n",
            "93\n",
            "95\n",
            "97\n",
            "99\n",
            "101\n",
            "103\n",
            "105\n",
            "107\n",
            "109\n",
            "111\n",
            "113\n",
            "115\n",
            "117\n",
            "119\n",
            "121\n",
            "123\n",
            "125\n",
            "127\n",
            "129\n",
            "131\n",
            "133\n",
            "135\n",
            "137\n",
            "139\n",
            "141\n",
            "143\n",
            "145\n",
            "147\n",
            "149\n",
            "151\n",
            "153\n",
            "155\n",
            "157\n",
            "159\n",
            "161\n",
            "163\n",
            "165\n",
            "167\n",
            "169\n",
            "171\n",
            "173\n",
            "175\n",
            "177\n",
            "179\n",
            "181\n",
            "183\n",
            "185\n",
            "187\n",
            "189\n"
          ]
        }
      ]
    },
    {
      "cell_type": "code",
      "source": [
        "# prompt: Crea una funci´on que devuelva los n´umeros primos hasta un n´umero dado\n",
        "\n",
        "def prime_numbers(limit):\n",
        "    \"\"\"\n",
        "    Devuelve una lista de números primos hasta un número dado.\n",
        "    \"\"\"\n",
        "    primes = []\n",
        "    for num in range(2, limit + 1):\n",
        "        is_prime = True\n",
        "        for i in range(2, int(num**0.5) + 1):\n",
        "            if num % i == 0:\n",
        "                is_prime = False\n",
        "                break\n",
        "        if is_prime:\n",
        "            primes.append(num)\n",
        "    return primes\n"
      ],
      "metadata": {
        "id": "HPe8dHiOXbjV"
      },
      "execution_count": null,
      "outputs": []
    },
    {
      "cell_type": "code",
      "source": [
        "#Ejercicio 19\n",
        "lista =[15, 4, 9, 20, 12]\n",
        "guard = 0\n",
        "for i in range(len(lista)):\n",
        "    guard = lista[i+1]\n",
        "    if lista[i] > guard:\n",
        "      lista[i] = lista[i+1]\n",
        "      lista[i]=guard\n",
        "      print(lista)\n",
        "\n",
        "\n"
      ],
      "metadata": {
        "colab": {
          "base_uri": "https://localhost:8080/",
          "height": 207
        },
        "id": "dTinhWq3DTZ5",
        "outputId": "3676c15c-bcff-4b62-84f4-ab2107fdb32b"
      },
      "execution_count": 25,
      "outputs": [
        {
          "output_type": "error",
          "ename": "IndexError",
          "evalue": "list index out of range",
          "traceback": [
            "\u001b[0;31m---------------------------------------------------------------------------\u001b[0m",
            "\u001b[0;31mIndexError\u001b[0m                                Traceback (most recent call last)",
            "\u001b[0;32m<ipython-input-25-494638e976a6>\u001b[0m in \u001b[0;36m<cell line: 0>\u001b[0;34m()\u001b[0m\n\u001b[1;32m      3\u001b[0m \u001b[0mguard\u001b[0m \u001b[0;34m=\u001b[0m \u001b[0;36m0\u001b[0m\u001b[0;34m\u001b[0m\u001b[0;34m\u001b[0m\u001b[0m\n\u001b[1;32m      4\u001b[0m \u001b[0;32mfor\u001b[0m \u001b[0mi\u001b[0m \u001b[0;32min\u001b[0m \u001b[0mlista\u001b[0m\u001b[0;34m:\u001b[0m\u001b[0;34m\u001b[0m\u001b[0;34m\u001b[0m\u001b[0m\n\u001b[0;32m----> 5\u001b[0;31m     \u001b[0mguard\u001b[0m \u001b[0;34m=\u001b[0m \u001b[0mlista\u001b[0m\u001b[0;34m[\u001b[0m\u001b[0mi\u001b[0m\u001b[0;34m+\u001b[0m\u001b[0;36m1\u001b[0m\u001b[0;34m]\u001b[0m\u001b[0;34m\u001b[0m\u001b[0;34m\u001b[0m\u001b[0m\n\u001b[0m\u001b[1;32m      6\u001b[0m     \u001b[0;32mif\u001b[0m \u001b[0mlista\u001b[0m\u001b[0;34m[\u001b[0m\u001b[0mi\u001b[0m\u001b[0;34m]\u001b[0m \u001b[0;34m>\u001b[0m \u001b[0mguard\u001b[0m\u001b[0;34m:\u001b[0m\u001b[0;34m\u001b[0m\u001b[0;34m\u001b[0m\u001b[0m\n\u001b[1;32m      7\u001b[0m       \u001b[0mlista\u001b[0m\u001b[0;34m[\u001b[0m\u001b[0mi\u001b[0m\u001b[0;34m]\u001b[0m \u001b[0;34m=\u001b[0m \u001b[0mlista\u001b[0m\u001b[0;34m[\u001b[0m\u001b[0mi\u001b[0m\u001b[0;34m+\u001b[0m\u001b[0;36m1\u001b[0m\u001b[0;34m]\u001b[0m\u001b[0;34m\u001b[0m\u001b[0;34m\u001b[0m\u001b[0m\n",
            "\u001b[0;31mIndexError\u001b[0m: list index out of range"
          ]
        }
      ]
    },
    {
      "cell_type": "code",
      "source": [
        "#Ejercicio 20\n",
        "print(\"Adivina el número\")\n",
        "num = random.randint(1, 100)\n",
        "print(num)"
      ],
      "metadata": {
        "colab": {
          "base_uri": "https://localhost:8080/",
          "height": 207
        },
        "id": "fKXfV4ZWDT8S",
        "outputId": "65bce6eb-293c-4f83-b0dd-068512858661"
      },
      "execution_count": 35,
      "outputs": [
        {
          "output_type": "stream",
          "name": "stdout",
          "text": [
            "Adivina el número\n"
          ]
        },
        {
          "output_type": "error",
          "ename": "NameError",
          "evalue": "name 'random' is not defined",
          "traceback": [
            "\u001b[0;31m---------------------------------------------------------------------------\u001b[0m",
            "\u001b[0;31mNameError\u001b[0m                                 Traceback (most recent call last)",
            "\u001b[0;32m<ipython-input-35-eeb4c9977d0c>\u001b[0m in \u001b[0;36m<cell line: 0>\u001b[0;34m()\u001b[0m\n\u001b[1;32m      1\u001b[0m \u001b[0;31m#Ejercicio 20\u001b[0m\u001b[0;34m\u001b[0m\u001b[0;34m\u001b[0m\u001b[0m\n\u001b[1;32m      2\u001b[0m \u001b[0mprint\u001b[0m\u001b[0;34m(\u001b[0m\u001b[0;34m\"Adivina el número\"\u001b[0m\u001b[0;34m)\u001b[0m\u001b[0;34m\u001b[0m\u001b[0;34m\u001b[0m\u001b[0m\n\u001b[0;32m----> 3\u001b[0;31m \u001b[0mnum\u001b[0m \u001b[0;34m=\u001b[0m \u001b[0mrandom\u001b[0m\u001b[0;34m.\u001b[0m\u001b[0mrandint\u001b[0m\u001b[0;34m(\u001b[0m\u001b[0;36m1\u001b[0m\u001b[0;34m,\u001b[0m \u001b[0;36m100\u001b[0m\u001b[0;34m)\u001b[0m\u001b[0;34m\u001b[0m\u001b[0;34m\u001b[0m\u001b[0m\n\u001b[0m\u001b[1;32m      4\u001b[0m \u001b[0mprint\u001b[0m\u001b[0;34m(\u001b[0m\u001b[0mnum\u001b[0m\u001b[0;34m)\u001b[0m\u001b[0;34m\u001b[0m\u001b[0;34m\u001b[0m\u001b[0m\n",
            "\u001b[0;31mNameError\u001b[0m: name 'random' is not defined"
          ]
        }
      ]
    }
  ]
}