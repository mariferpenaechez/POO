{
  "nbformat": 4,
  "nbformat_minor": 0,
  "metadata": {
    "colab": {
      "provenance": []
    },
    "kernelspec": {
      "name": "python3",
      "display_name": "Python 3"
    },
    "language_info": {
      "name": "python"
    }
  },
  "cells": [
    {
      "cell_type": "markdown",
      "source": [
        "# Introducción a Python\n",
        "\n",
        " Hoy vamos a ver cómo funciona google collab y varias operaciones básicas en python.\n",
        "\n",
        " ## ¿Qué veremos hoy?\n",
        "\n",
        "\n",
        "1.   Objetos\n",
        "2.   Variables\n",
        "3.   Ejemplo\n",
        "\n"
      ],
      "metadata": {
        "id": "v95QbgjpqPci"
      }
    },
    {
      "cell_type": "markdown",
      "source": [
        "**Nota:** En este procesador de texto, se puede escribir en html y en latex.\n",
        "\n",
        "Por ejemplo, vamos a escribir la ecuación más hermosa:\n",
        "$$e^{i\\pi}+1=0$$"
      ],
      "metadata": {
        "id": "_agbBRSat8hM"
      }
    },
    {
      "cell_type": "markdown",
      "source": [
        "\\begin{pmatrix}\n",
        "1 & 2 & 3 \\\\\n",
        "4 & 5 & 6 \\\\\n",
        "7 & 8 & 9\n",
        "\\end{pmatrix}"
      ],
      "metadata": {
        "id": "D-BcbEUOyXlT"
      }
    },
    {
      "cell_type": "markdown",
      "source": [
        "###Objetos en Python:\n",
        "\n",
        "\n",
        "1.  int y float (double)\n",
        "2.   str (string)\n",
        "3.   Conjuntos y Listas\n",
        "\n",
        "----------------\n",
        "**La función (morfismo) `print` y la función `type`**"
      ],
      "metadata": {
        "id": "MrKtJLZa6hB9"
      }
    },
    {
      "cell_type": "code",
      "source": [
        "print(\"Hola Mundo\");\n",
        "print(\"Ingresa tu nombre\");\n",
        "#Los gatos son para hacer notas\n",
        "\n",
        "#Puedes solamente escrbir texto"
      ],
      "metadata": {
        "colab": {
          "base_uri": "https://localhost:8080/"
        },
        "id": "euI_VvRR9pSf",
        "outputId": "f8037f26-53b4-4fa7-ccc8-883d0e123e8c"
      },
      "execution_count": 8,
      "outputs": [
        {
          "output_type": "stream",
          "name": "stdout",
          "text": [
            "Hola Mundo\n",
            "Ingresa tu nombre\n"
          ]
        }
      ]
    },
    {
      "cell_type": "markdown",
      "source": [
        "**Depures son comandos**"
      ],
      "metadata": {
        "id": "eOCO8771__Oh"
      }
    },
    {
      "cell_type": "markdown",
      "source": [
        "#### Operaciones básicas en int o float\n",
        "\n",
        "\n",
        "\n",
        "*   $+, -$ Suma y Resta\n",
        "*   $*, /, **$ Multiplicación, división y potenciación\n",
        "*   $\\%$ Operación modular\n",
        "*   $//$ División al piso\n",
        "\n",
        "\n",
        "\n"
      ],
      "metadata": {
        "id": "FwpUY-__AckM"
      }
    },
    {
      "cell_type": "code",
      "source": [
        "5+2"
      ],
      "metadata": {
        "colab": {
          "base_uri": "https://localhost:8080/"
        },
        "id": "nMIcNSlrEy2H",
        "outputId": "64709afd-a809-42f6-9dd4-594656c91abe"
      },
      "execution_count": 9,
      "outputs": [
        {
          "output_type": "execute_result",
          "data": {
            "text/plain": [
              "7"
            ]
          },
          "metadata": {},
          "execution_count": 9
        }
      ]
    },
    {
      "cell_type": "markdown",
      "source": [
        "##Creación de Variables\n",
        "\n",
        "---\n",
        "nombre = objeto"
      ],
      "metadata": {
        "id": "XsqYWgrmFOKz"
      }
    },
    {
      "cell_type": "code",
      "source": [
        "#Vamos a crear dos variables\n",
        "x=7\n",
        "y=3\n",
        "print(f\"La suma entre {x} y {y} es {x+y}\")\n",
        "print(f\"La suma entre {x} y {y} es {x-y}\")\n",
        "print(f\"La suma entre {x} y {y} es {x*y}\")\n",
        "print(f\"La suma entre {x} y {y} es {x/y}\")\n",
        "print(f\"La suma entre {x} y {y} es {x**y}\")\n",
        "print(f\"La suma entre {x} y {y} es {x%y}\")\n",
        "print(f\"La suma entre {x} y {y} es {x//y}\")"
      ],
      "metadata": {
        "colab": {
          "base_uri": "https://localhost:8080/"
        },
        "id": "YfyUtPcIF0Mt",
        "outputId": "7e1bb1c4-3a94-4726-fe48-7491a3b63c0b"
      },
      "execution_count": 15,
      "outputs": [
        {
          "output_type": "stream",
          "name": "stdout",
          "text": [
            "La suma entre 7 y 3 es 10\n",
            "La suma entre 7 y 3 es 4\n",
            "La suma entre 7 y 3 es 21\n",
            "La suma entre 7 y 3 es 2.3333333333333335\n",
            "La suma entre 7 y 3 es 343\n",
            "La suma entre 7 y 3 es 1\n",
            "La suma entre 7 y 3 es 2\n"
          ]
        }
      ]
    },
    {
      "cell_type": "code",
      "source": [
        "type(x+y)"
      ],
      "metadata": {
        "colab": {
          "base_uri": "https://localhost:8080/"
        },
        "id": "8BGqRO-qHqaf",
        "outputId": "4fcf3c12-2fa7-4d8d-9808-6c6c1b63093f"
      },
      "execution_count": 16,
      "outputs": [
        {
          "output_type": "execute_result",
          "data": {
            "text/plain": [
              "int"
            ]
          },
          "metadata": {},
          "execution_count": 16
        }
      ]
    },
    {
      "cell_type": "code",
      "source": [
        "type(x/y)"
      ],
      "metadata": {
        "colab": {
          "base_uri": "https://localhost:8080/"
        },
        "id": "bs1B21J6I5uy",
        "outputId": "c83eae5e-e865-4446-aa67-d7c63d331759"
      },
      "execution_count": 17,
      "outputs": [
        {
          "output_type": "execute_result",
          "data": {
            "text/plain": [
              "float"
            ]
          },
          "metadata": {},
          "execution_count": 17
        }
      ]
    }
  ]
}