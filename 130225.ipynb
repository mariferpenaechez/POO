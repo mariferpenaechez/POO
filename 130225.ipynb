{
  "nbformat": 4,
  "nbformat_minor": 0,
  "metadata": {
    "colab": {
      "provenance": []
    },
    "kernelspec": {
      "name": "python3",
      "display_name": "Python 3"
    },
    "language_info": {
      "name": "python"
    }
  },
  "cells": [
    {
      "cell_type": "code",
      "execution_count": null,
      "metadata": {
        "id": "xFMM5VAyG8am"
      },
      "outputs": [],
      "source": []
    },
    {
      "cell_type": "code",
      "source": [
        "!pip install ColabTurtle\n",
        "from ColabTurtle.Turtle import *\n"
      ],
      "metadata": {
        "colab": {
          "base_uri": "https://localhost:8080/"
        },
        "id": "f517PM6nHKfh",
        "outputId": "f392dd63-29c3-4ab0-a845-e6e0811f5301"
      },
      "execution_count": null,
      "outputs": [
        {
          "output_type": "stream",
          "name": "stdout",
          "text": [
            "Collecting ColabTurtle\n",
            "  Downloading ColabTurtle-2.1.0.tar.gz (6.8 kB)\n",
            "  Preparing metadata (setup.py) ... \u001b[?25l\u001b[?25hdone\n",
            "Building wheels for collected packages: ColabTurtle\n",
            "  Building wheel for ColabTurtle (setup.py) ... \u001b[?25l\u001b[?25hdone\n",
            "  Created wheel for ColabTurtle: filename=ColabTurtle-2.1.0-py3-none-any.whl size=7642 sha256=b885c2dfae3d05fb236e877e7fba30c23b664ea3cfd0b7263bca7cfb47e8b819\n",
            "  Stored in directory: /root/.cache/pip/wheels/f6/9e/81/137e7da25129474562d30f8660be599e5c8d79228cb747e5b9\n",
            "Successfully built ColabTurtle\n",
            "Installing collected packages: ColabTurtle\n",
            "Successfully installed ColabTurtle-2.1.0\n"
          ]
        }
      ]
    },
    {
      "cell_type": "code",
      "source": [],
      "metadata": {
        "id": "kIybEw39Vijc"
      },
      "execution_count": null,
      "outputs": []
    },
    {
      "cell_type": "markdown",
      "source": [
        "#Clases y Herencias\n",
        "###¿Qué es una clase?\n",
        "[texto]"
      ],
      "metadata": {
        "id": "3lvHit6oVnPz"
      }
    },
    {
      "cell_type": "code",
      "source": [
        "class Alvaro():\n",
        "  pass"
      ],
      "metadata": {
        "id": "g8xH65MfVw_r"
      },
      "execution_count": null,
      "outputs": []
    },
    {
      "cell_type": "code",
      "source": [
        "Alvaro()"
      ],
      "metadata": {
        "colab": {
          "base_uri": "https://localhost:8080/"
        },
        "id": "flVeVqgQV1ZR",
        "outputId": "e0926573-5ec7-4a61-eb4f-6d01677e1736"
      },
      "execution_count": null,
      "outputs": [
        {
          "output_type": "execute_result",
          "data": {
            "text/plain": [
              "<__main__.Alvaro at 0x7b24f06646d0>"
            ]
          },
          "metadata": {},
          "execution_count": 3
        }
      ]
    },
    {
      "cell_type": "code",
      "source": [
        "#Vamos a crear una clase  que se llame Álvaro\n",
        "class Alvaro:\n",
        "  def __init__(self, edad, bff, Ceci):\n",
        "    self.edad = edad\n",
        "    self.bff = bff\n",
        "    self.Ceci = Ceci\n",
        "\n",
        "  def hola(self):\n",
        "    print(\"Hola, soy Alvaro\")\n",
        "\n",
        "  def amigos(self):\n",
        "    print(f\"A los {self.edad} conocí a mi amigo {self.bff}\")\n",
        "\n",
        "  def chisme(self):\n",
        "    print(f\"Estoy en el chisme con {self.bff} y con {self.Ceci}\")"
      ],
      "metadata": {
        "id": "UK3lvsvKV3fS"
      },
      "execution_count": null,
      "outputs": []
    },
    {
      "cell_type": "code",
      "source": [
        "avo = Alvaro(18, \"Jaume\", \"Ceci\")"
      ],
      "metadata": {
        "id": "U1DmsoGmrhzb"
      },
      "execution_count": null,
      "outputs": []
    },
    {
      "cell_type": "code",
      "source": [
        "# ¿Cuáles son los argumentos de la clase?\n",
        "avo.edad, avo.bff"
      ],
      "metadata": {
        "colab": {
          "base_uri": "https://localhost:8080/"
        },
        "id": "0pTHx_QarpsZ",
        "outputId": "ac0fb3a4-fe4a-45a8-d3ea-580806238eee"
      },
      "execution_count": null,
      "outputs": [
        {
          "output_type": "execute_result",
          "data": {
            "text/plain": [
              "(18, 'Jaume')"
            ]
          },
          "metadata": {},
          "execution_count": 4
        }
      ]
    },
    {
      "cell_type": "code",
      "source": [
        "avo.hola()"
      ],
      "metadata": {
        "colab": {
          "base_uri": "https://localhost:8080/"
        },
        "id": "y3fwC5JnrxMf",
        "outputId": "83ed2007-dee6-4f57-8c40-322df42ab769"
      },
      "execution_count": null,
      "outputs": [
        {
          "output_type": "stream",
          "name": "stdout",
          "text": [
            "Hola, soy Alvaro\n"
          ]
        }
      ]
    },
    {
      "cell_type": "code",
      "source": [
        "avo.amigos()"
      ],
      "metadata": {
        "colab": {
          "base_uri": "https://localhost:8080/"
        },
        "id": "rAYda9ihr-Cr",
        "outputId": "86beb646-0290-4591-e247-364804f9c2e8"
      },
      "execution_count": null,
      "outputs": [
        {
          "output_type": "stream",
          "name": "stdout",
          "text": [
            "A los 18 conocí a mi amigo Jaume\n"
          ]
        }
      ]
    },
    {
      "cell_type": "code",
      "source": [
        "avo.chisme"
      ],
      "metadata": {
        "colab": {
          "base_uri": "https://localhost:8080/",
          "height": 103
        },
        "id": "vAj3f1axsAJ0",
        "outputId": "7ef18585-28fc-4dde-ff6d-f9656ab51b68"
      },
      "execution_count": null,
      "outputs": [
        {
          "output_type": "execute_result",
          "data": {
            "text/plain": [
              "<bound method Alvaro.chisme of <__main__.Alvaro object at 0x7a89f210ad10>>"
            ],
            "text/html": [
              "<div style=\"max-width:800px; border: 1px solid var(--colab-border-color);\"><style>\n",
              "      pre.function-repr-contents {\n",
              "        overflow-x: auto;\n",
              "        padding: 8px 12px;\n",
              "        max-height: 500px;\n",
              "      }\n",
              "\n",
              "      pre.function-repr-contents.function-repr-contents-collapsed {\n",
              "        cursor: pointer;\n",
              "        max-height: 100px;\n",
              "      }\n",
              "    </style>\n",
              "    <pre style=\"white-space: initial; background:\n",
              "         var(--colab-secondary-surface-color); padding: 8px 12px;\n",
              "         border-bottom: 1px solid var(--colab-border-color);\"><b>Alvaro.chisme</b><br/>def chisme()</pre><pre class=\"function-repr-contents function-repr-contents-collapsed\" style=\"\"><a class=\"filepath\" style=\"display:none\" href=\"#\">/content/&lt;ipython-input-1-d891fe5dc998&gt;</a>&lt;no docstring&gt;</pre></div>"
            ]
          },
          "metadata": {},
          "execution_count": 8
        }
      ]
    }
  ]
}