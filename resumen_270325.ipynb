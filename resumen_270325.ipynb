{
  "nbformat": 4,
  "nbformat_minor": 0,
  "metadata": {
    "colab": {
      "provenance": []
    },
    "kernelspec": {
      "name": "python3",
      "display_name": "Python 3"
    },
    "language_info": {
      "name": "python"
    }
  },
  "cells": [
    {
      "cell_type": "code",
      "execution_count": null,
      "metadata": {
        "id": "gTyD2w52mHmm"
      },
      "outputs": [],
      "source": [
        "from tkinter import *\n",
        "root = Tk()\n",
        "w = Label(root, text='GeeksForGeeks.org!')\n",
        "w.pack()\n",
        "root.mainloop()"
      ]
    },
    {
      "cell_type": "code",
      "source": [
        "import tkinter as tk\n",
        "\n",
        "r = tk.Tk()\n",
        "r.title('Counting Seconds')\n",
        "button = tk.Button(r, text='Stop', width=25, command=r.destroy)\n",
        "button.pack()\n",
        "r.mainloop()"
      ],
      "metadata": {
        "id": "_dwPVpn3mN8D"
      },
      "execution_count": null,
      "outputs": []
    },
    {
      "cell_type": "code",
      "source": [
        "from tkinter import *\n",
        "\n",
        "master = Tk()\n",
        "Label(master, text='First Name').grid(row=0)\n",
        "Label(master, text='Last Name').grid(row=1)\n",
        "e1 = Entry(master)\n",
        "e2 = Entry(master)\n",
        "e1.grid(row=0, column=1)\n",
        "e2.grid(row=1, column=1)\n",
        "mainloop()"
      ],
      "metadata": {
        "id": "YITrmDscmPnd"
      },
      "execution_count": null,
      "outputs": []
    },
    {
      "cell_type": "code",
      "source": [
        "from tkinter import *\n",
        "\n",
        "top = Tk()\n",
        "Lb = Listbox(top)\n",
        "Lb.insert(1, 'Python')\n",
        "Lb.insert(2, 'Java')\n",
        "Lb.insert(3, 'C++')\n",
        "Lb.insert(4, 'Any other')\n",
        "Lb.pack()\n",
        "top.mainloop()"
      ],
      "metadata": {
        "id": "TRYJzd6bmRHK"
      },
      "execution_count": null,
      "outputs": []
    },
    {
      "cell_type": "code",
      "source": [
        "from tkinter import *\n",
        "\n",
        "master = Tk()\n",
        "var1 = IntVar()\n",
        "Checkbutton(master, text='male', variable=var1).grid(row=0, sticky=W)\n",
        "var2 = IntVar()\n",
        "Checkbutton(master, text='female', variable=var2).grid(row=1, sticky=W)\n",
        "mainloop()"
      ],
      "metadata": {
        "id": "SomUqxEtmTcr"
      },
      "execution_count": null,
      "outputs": []
    },
    {
      "cell_type": "code",
      "source": [
        "from tkinter import *\n",
        "\n",
        "root = Tk()\n",
        "scrollbar = Scrollbar(root)\n",
        "scrollbar.pack(side=RIGHT, fill=Y)\n",
        "mylist = Listbox(root, yscrollcommand=scrollbar.set)\n",
        "\n",
        "for line in range(100):\n",
        "    mylist.insert(END, 'This is line number' + str(line))\n",
        "\n",
        "mylist.pack(side=LEFT, fill=BOTH)\n",
        "scrollbar.config(command=mylist.yview)\n",
        "mainloop()"
      ],
      "metadata": {
        "id": "E-si-bacmU2v"
      },
      "execution_count": null,
      "outputs": []
    },
    {
      "cell_type": "code",
      "source": [
        "from tkinter import *\n",
        "\n",
        "root = Tk()\n",
        "menu = Menu(root)\n",
        "root.config(menu=menu)\n",
        "filemenu = Menu(menu)\n",
        "menu.add_cascade(label='File', menu=filemenu)\n",
        "filemenu.add_command(label='New')\n",
        "filemenu.add_command(label='Open...')\n",
        "filemenu.add_separator()\n",
        "filemenu.add_command(label='Exit', command=root.quit)\n",
        "helpmenu = Menu(menu)\n",
        "menu.add_cascade(label='Help', menu=helpmenu)\n",
        "helpmenu.add_command(label='About')\n",
        "mainloop()"
      ],
      "metadata": {
        "id": "6-mDuu2KmWVF"
      },
      "execution_count": null,
      "outputs": []
    },
    {
      "cell_type": "code",
      "source": [
        "import tkinter as tk\n",
        "from tkinter import ttk\n",
        "\n",
        "def select(event):\n",
        "    selected_item = combo_box.get()\n",
        "    label.config(text=\"Selected Item: \" + selected_item)\n",
        "\n",
        "root = tk.Tk()\n",
        "root.title(\"Combobox Example\")\n",
        "\n",
        "# Create a label\n",
        "label = tk.Label(root, text=\"Selected Item: \")\n",
        "label.pack(pady=10)\n",
        "\n",
        "# Create a Combobox widget\n",
        "combo_box = ttk.Combobox(root, values=[\"Option 1\", \"Option 2\", \"Option 3\"])\n",
        "combo_box.pack(pady=5)\n",
        "\n",
        "# Set default value\n",
        "combo_box.set(\"Option 1\")\n",
        "\n",
        "# Bind event to selection\n",
        "combo_box.bind(\"<<ComboboxSelected>>\", select)\n",
        "\n",
        "root.mainloop()"
      ],
      "metadata": {
        "id": "tKs5es5UmXvR"
      },
      "execution_count": null,
      "outputs": []
    },
    {
      "cell_type": "code",
      "source": [
        "from tkinter import *\n",
        "\n",
        "master = Tk()\n",
        "w = Scale(master, from_=0, to=42)\n",
        "w.pack()\n",
        "w = Scale(master, from_=0, to=200, orient=HORIZONTAL)\n",
        "w.pack()\n",
        "mainloop()"
      ],
      "metadata": {
        "id": "-VwQxflkmYKQ"
      },
      "execution_count": null,
      "outputs": []
    },
    {
      "cell_type": "code",
      "source": [
        "from tkinter import *\n",
        "\n",
        "main = Tk()\n",
        "ourMessage = 'This is our Message'\n",
        "messageVar = Message(main, text=ourMessage)\n",
        "messageVar.config(bg='lightgreen')\n",
        "messageVar.pack()\n",
        "main.mainloop()"
      ],
      "metadata": {
        "id": "apu3aSPomZlu"
      },
      "execution_count": null,
      "outputs": []
    },
    {
      "cell_type": "code",
      "source": [
        "import tkinter as tk\n",
        "from tkinter import ttk\n",
        "import time\n",
        "\n",
        "def start_progress():\n",
        "    progress.start()\n",
        "\n",
        "    # Simulate a task that takes time to complete\n",
        "    for i in range(101):\n",
        "      # Simulate some work\n",
        "        time.sleep(0.05)\n",
        "        progress['value'] = i\n",
        "        # Update the GUI\n",
        "        root.update_idletasks()\n",
        "    progress.stop()\n",
        "\n",
        "root = tk.Tk()\n",
        "root.title(\"Progressbar Example\")\n",
        "\n",
        "# Create a progressbar widget\n",
        "progress = ttk.Progressbar(root, orient=\"horizontal\", length=300, mode=\"determinate\")\n",
        "progress.pack(pady=20)\n",
        "\n",
        "# Button to start progress\n",
        "start_button = tk.Button(root, text=\"Start Progress\", command=start_progress)\n",
        "start_button.pack(pady=10)\n",
        "\n",
        "root.mainloop()"
      ],
      "metadata": {
        "id": "ZWrhA8VBmbAA"
      },
      "execution_count": null,
      "outputs": []
    },
    {
      "cell_type": "code",
      "source": [
        "from tkinter import *\n",
        "\n",
        "root = Tk()\n",
        "T = Text(root, height=2, width=30)\n",
        "T.pack()\n",
        "T.insert(END, 'GeeksforGeeks\\nBEST WEBSITE\\n')\n",
        "mainloop()"
      ],
      "metadata": {
        "id": "FsHNRGszmckt"
      },
      "execution_count": null,
      "outputs": []
    },
    {
      "cell_type": "code",
      "source": [
        "import tkinter as tk\n",
        "\n",
        "root = tk.Tk()\n",
        "root.title(\"Color Options in Tkinter\")\n",
        "\n",
        "# Create a button with active background and foreground colors\n",
        "button = tk.Button(root, text=\"Click Me\", activebackground=\"blue\", activeforeground=\"white\")\n",
        "button.pack()\n",
        "\n",
        "# Create a label with background and foreground colors\n",
        "label = tk.Label(root, text=\"Hello, Tkinter!\", bg=\"lightgray\", fg=\"black\")\n",
        "label.pack()\n",
        "\n",
        "# Create an Entry widget with selection colors\n",
        "entry = tk.Entry(root, selectbackground=\"lightblue\", selectforeground=\"black\")\n",
        "entry.pack()\n",
        "\n",
        "root.mainloop()"
      ],
      "metadata": {
        "id": "FxVIMtmJmd_p"
      },
      "execution_count": null,
      "outputs": []
    },
    {
      "cell_type": "code",
      "source": [
        "from tkinter import *\n",
        "\n",
        "master = Tk()\n",
        "w = Canvas(master, width=40, height=60)\n",
        "w.pack()\n",
        "canvas_height=20\n",
        "canvas_width=200\n",
        "y = int(canvas_height / 2)\n",
        "w.create_line(0, y, canvas_width, y )\n",
        "mainloop()"
      ],
      "metadata": {
        "id": "rBwDSZM9mfgy"
      },
      "execution_count": null,
      "outputs": []
    },
    {
      "cell_type": "code",
      "source": [
        "import tkinter as tk\n",
        "\n",
        "root = tk.Tk()\n",
        "root.title(\"Grid Example\")\n",
        "\n",
        "# Create three labels\n",
        "label1 = tk.Label(root, text=\"Label 1\")\n",
        "label2 = tk.Label(root, text=\"Label 2\")\n",
        "label3 = tk.Label(root, text=\"Label 3\")\n",
        "\n",
        "# Grid the labels in a 2x2 grid\n",
        "label1.grid(row=0, column=0)\n",
        "label2.grid(row=0, column=1)\n",
        "label3.grid(row=1, column=0, columnspan=2)\n",
        "\n",
        "root.mainloop()"
      ],
      "metadata": {
        "id": "WppvgwTqmhht"
      },
      "execution_count": null,
      "outputs": []
    },
    {
      "cell_type": "code",
      "source": [
        "import tkinter as tk\n",
        "\n",
        "def on_key_press(event):\n",
        "    print(f\"Key pressed: {event.keysym}\")\n",
        "\n",
        "def on_left_click(event):\n",
        "    print(f\"Left click at ({event.x}, {event.y})\")\n",
        "\n",
        "def on_right_click(event):\n",
        "    print(f\"Right click at ({event.x}, {event.y})\")\n",
        "\n",
        "def on_mouse_motion(event):\n",
        "    print(f\"Mouse moved to ({event.x}, {event.y})\")\n",
        "\n",
        "root = tk.Tk()\n",
        "root.title(\"Advanced Event Handling Example\")\n",
        "\n",
        "root.bind(\"<KeyPress>\", on_key_press)\n",
        "root.bind(\"<Button-1>\", on_left_click)\n",
        "root.bind(\"<Button-3>\", on_right_click)\n",
        "root.bind(\"<Motion>\", on_mouse_motion)\n",
        "\n",
        "root.mainloop()"
      ],
      "metadata": {
        "id": "pCNYZE1fmjQI"
      },
      "execution_count": null,
      "outputs": []
    }
  ]
}